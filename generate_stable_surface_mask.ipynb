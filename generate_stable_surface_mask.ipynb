{
 "cells": [
  {
   "cell_type": "markdown",
   "id": "57639b73",
   "metadata": {},
   "source": [
    "# Generate a stable surface mask from a glacier outline shapefile"
   ]
  },
  {
   "cell_type": "code",
   "execution_count": 10,
   "id": "4543bc48",
   "metadata": {},
   "outputs": [],
   "source": [
    "from osgeo import gdal\n",
    "import matplotlib.pyplot as plt\n",
    "import numpy as np\n",
    "import os\n",
    "import rasterio as rio\n",
    "from rasterio.plot import show"
   ]
  },
  {
   "cell_type": "code",
   "execution_count": 11,
   "id": "0d339038",
   "metadata": {},
   "outputs": [],
   "source": [
    "# set output file name and path (ssm.tif)\n",
    "# out_fn = '/Users/jukesliu/Documents/PLANETSCOPE_VELOCITIES/LO/ssm.tif'\n",
    "out_fn = '/Users/ellynenderlin/Research/NASA_CryoIdaho/glaciers/Wolverine/images/ssm.tif'\n",
    "# out_fn = '/Volumes/LaCie/VG/VG_autorift_inputs/ssm.tif'"
   ]
  },
  {
   "cell_type": "markdown",
   "id": "7eb092a3",
   "metadata": {},
   "source": [
    "## Option 1. If GDAL command line functionality installed:"
   ]
  },
  {
   "cell_type": "code",
   "execution_count": 12,
   "id": "99d87a05",
   "metadata": {},
   "outputs": [],
   "source": [
    "# open shapefile to use as ssm (glacier outline perhaps)... MUST BE IN UTM COORDINATES\n",
    "# shp_path = '/Users/jukesliu/Documents/PLANETSCOPE_VELOCITIES/LO/ssm_polygon.shp'\n",
    "shp_path = '/Users/ellynenderlin/Research/NASA_CryoIdaho/glaciers/Wolverine/AOIs/Wolverine-2018-outline-UTM.shp'\n",
    "source_ds = gdal.OpenEx(shp_path)\n",
    "\n",
    "# set pixel resolution and no data value\n",
    "res = 5 # meters\n",
    "NoData_value = 0"
   ]
  },
  {
   "cell_type": "code",
   "execution_count": 13,
   "id": "ea747839",
   "metadata": {},
   "outputs": [
    {
     "name": "stdout",
     "output_type": "stream",
     "text": [
      "gdal_rasterize -tr 5 5 -burn 1 -init 0 /Users/ellynenderlin/Research/NASA_CryoIdaho/glaciers/Wolverine/AOIs/Wolverine-2018-outline-UTM06N.shp /Users/ellynenderlin/Research/NASA_CryoIdaho/glaciers/Wolverine/images/ssm_uncropped.tif\n",
      "0...10...20...30...40...50...60...70...80...90...100 - done.\n"
     ]
    },
    {
     "data": {
      "text/plain": [
       "0"
      ]
     },
     "execution_count": 13,
     "metadata": {},
     "output_type": "execute_result"
    }
   ],
   "source": [
    "# rasterize\n",
    "rcmd = 'gdal_rasterize -tr '+str(res)+' '+str(res)+' -burn 1 -init 0 '+shp_path+' '+out_fn[:-4]+'_uncropped.tif'\n",
    "print(rcmd)\n",
    "os.system(rcmd)"
   ]
  },
  {
   "cell_type": "markdown",
   "id": "7c9a4d28",
   "metadata": {},
   "source": [
    "Then run the following printed command on terminal to crop:"
   ]
  },
  {
   "cell_type": "code",
   "execution_count": 14,
   "id": "5d532993",
   "metadata": {},
   "outputs": [
    {
     "name": "stdout",
     "output_type": "stream",
     "text": [
      "Creating output file that is 1026P x 1314L.\n",
      "Processing /Users/ellynenderlin/Research/NASA_CryoIdaho/glaciers/Wolverine/images/ssm_uncropped.tif [1/1] : 0...10...20...30...40...50...60...70...80...90...100 - done.\n"
     ]
    },
    {
     "data": {
      "text/plain": [
       "0"
      ]
     },
     "execution_count": 14,
     "metadata": {},
     "output_type": "execute_result"
    }
   ],
   "source": [
    "# crop to the Box extent\n",
    "# crop_extent_shp = '/Users/jukesliu/Documents/PLANETSCOPE_VELOCITIES/AV/AV_Box_WGS_UTM_33.shp'\n",
    "crop_extent_shp = '/Users/ellynenderlin/Research/NASA_CryoIdaho/glaciers/Wolverine/AOIs/Wolverine-2018-box-UTM.shp'\n",
    "\n",
    "# os.system('gdalwarp -cutline '+crop_extent_shp+' -crop_to_cutline '+out_fn+' '+out_fn[:-4]+'_clipped.tif')\n",
    "os.system('gdalwarp -cutline '+crop_extent_shp+' -crop_to_cutline '+out_fn[:-4]+'_uncropped.tif'+' '+out_fn)\n",
    "# print('gdalwarp -cutline '+crop_extent_shp+' -crop_to_cutline '+out_fn[:-4]+'_uncropped.tif'+' '+out_fn)"
   ]
  },
  {
   "cell_type": "code",
   "execution_count": 15,
   "id": "8f64d9fe",
   "metadata": {},
   "outputs": [
    {
     "data": {
      "image/png": "[encoded data removed]",
      "text/plain": [
       "<Figure size 800x800 with 1 Axes>"
      ]
     },
     "metadata": {},
     "output_type": "display_data"
    }
   ],
   "source": [
    "# read and plot to check\n",
    "src = rio.open(out_fn)\n",
    "fig, ax = plt.subplots(1, figsize=(8,8))\n",
    "im1 = show((src, 1), cmap='Greys_r', interpolation='none', ax=ax)\n",
    "plt.show()"
   ]
  },
  {
   "cell_type": "markdown",
   "id": "991c78ed",
   "metadata": {},
   "source": [
    "## Option 2. Use gdal.rasterize (broken)"
   ]
  },
  {
   "cell_type": "code",
   "execution_count": null,
   "id": "b644fcd1",
   "metadata": {},
   "outputs": [],
   "source": [
    "from rasterio import features\n",
    "import geopandas as gpd"
   ]
  },
  {
   "cell_type": "code",
   "execution_count": null,
   "id": "73e195fd",
   "metadata": {},
   "outputs": [],
   "source": [
    "# read in a reference raster to use as the CRS and extent\n",
    "ref_reader = rio.open('/Users/jukesliu/Documents/TURNER/DATA/ICE_THICKNESS/Variegated/Nolan_ASTER_20070903_clipped.tif')\n",
    "ref_reader"
   ]
  },
  {
   "cell_type": "code",
   "execution_count": null,
   "id": "dd0f6345",
   "metadata": {},
   "outputs": [],
   "source": [
    "ref_reader.meta"
   ]
  },
  {
   "cell_type": "code",
   "execution_count": null,
   "id": "9212dbe2",
   "metadata": {},
   "outputs": [],
   "source": [
    "# read in glacier outline shapefile with geopandas\n",
    "shp_path = '/Users/jukesliu/Documents/TURNER/DATA/shapefiles_gis/VG/Variegated_polygon_UTM07.shp'\n",
    "shp = gpd.read_file(shp_path)\n",
    "shp"
   ]
  },
  {
   "cell_type": "code",
   "execution_count": null,
   "id": "2fa144d2",
   "metadata": {},
   "outputs": [],
   "source": [
    "# generate raster metadata file\n",
    "out_meta = ref_reader.meta"
   ]
  },
  {
   "cell_type": "code",
   "execution_count": null,
   "id": "d3d51167",
   "metadata": {},
   "outputs": [],
   "source": [
    "# write out to filename\n",
    "out_fn = '/Volumes/LaCie/VG/VG_autorift_inputs/ssm.tif'\n",
    "with rio.open(out_fn, 'w+', **out_meta) as out:\n",
    "    out_arr = out.read(1)\n",
    "\n",
    "    # this is where we create a generator of geom, value pairs to use in rasterizing\n",
    "    shapes = ((geom,value) for geom, value in zip(shp.geometry, [1]))\n",
    "\n",
    "    burned = features.rasterize(shapes=shapes, fill=0, out=out_arr, transform=out.transform)\n",
    "    out.write_band(1, burned)\n",
    "print('Rasterization complete.')"
   ]
  },
  {
   "cell_type": "code",
   "execution_count": null,
   "id": "a2d53dab",
   "metadata": {},
   "outputs": [],
   "source": []
  }
 ],
 "metadata": {
  "kernelspec": {
   "display_name": "Python 2",
   "language": "python",
   "name": "python2"
  },
  "language_info": {
   "codemirror_mode": {
    "name": "ipython",
    "version": 3
   },
   "file_extension": ".py",
   "mimetype": "text/x-python",
   "name": "python",
   "nbconvert_exporter": "python",
   "pygments_lexer": "ipython3",
   "version": "3.9.6"
  }
 },
 "nbformat": 4,
 "nbformat_minor": 5
}
